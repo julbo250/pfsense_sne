{
  "cells": [
    {
      "cell_type": "markdown",
      "metadata": {
        "id": "view-in-github",
        "colab_type": "text"
      },
      "source": [
        "<a href=\"https://colab.research.google.com/github/julbo250/pfsense_sne/blob/master/%C3%A9cris_moi_un_script_python_qui_r%C3%A9cup%C3%A8re_les_donn%C3%A9_.ipynb\" target=\"_parent\"><img src=\"https://colab.research.google.com/assets/colab-badge.svg\" alt=\"Open In Colab\"/></a>"
      ]
    },
    {
      "cell_type": "markdown",
      "source": [
        "## Script Python pour récupérer les données de CERT-FR"
      ],
      "metadata": {
        "id": "i38Ugb_TNx0z"
      }
    },
    {
      "cell_type": "code",
      "source": [
        "import requests\n",
        "from bs4 import BeautifulSoup\n",
        "\n",
        "def get_cert_fr_advisories():\n",
        "    \"\"\"\n",
        "    Récupère les avis de sécurité du CERT-FR depuis https://www.cert.ssi.gouv.fr/avis/\n",
        "\n",
        "    Returns:\n",
        "        Liste de dictionnaires contenant les informations sur chaque avis.\n",
        "    \"\"\"\n",
        "    url = \"https://www.cert.ssi.gouv.fr/avis/\"\n",
        "    response = requests.get(url)\n",
        "    soup = BeautifulSoup(response.content, \"html.parser\")\n",
        "\n",
        "    advisories = []\n",
        "    for row in soup.find_all(\"tr\", class_=\"odd\"):\n",
        "        cells = row.find_all(\"td\")\n",
        "        advisory = {\n",
        "            \"reference\": cells[0].text.strip(),\n",
        "            \"title\": cells[1].text.strip(),\n",
        "            \"date\": cells[2].text.strip(),\n",
        "            \"url\": cells[1].find(\"a\")[\"href\"],\n",
        "        }\n",
        "        advisories.append(advisory)\n",
        "\n",
        "    return advisories\n",
        "\n",
        "def main():\n",
        "    \"\"\"Fonction principale\"\"\"\n",
        "    advisories = get_cert_fr_advisories()\n",
        "\n",
        "    # Affichage des avis\n",
        "    for advisory in advisories:\n",
        "        print(f\"Référence: {advisory['reference']}\")\n",
        "        print(f\"Titre: {advisory['title']}\")\n",
        "        print(f\"Date: {advisory['date']}\")\n",
        "        print(f\"URL: {advisory['url']}\")\n",
        "        print(\"----------------------\")\n",
        "\n",
        "if __name__ == \"__main__\":\n",
        "    main()"
      ],
      "outputs": [],
      "execution_count": 4,
      "metadata": {
        "id": "Onn6H7kiNx00"
      }
    },
    {
      "cell_type": "markdown",
      "source": [
        "**Explication du script:**\n",
        "\n",
        "1. **Importation des modules:**\n",
        "    * `requests`: Pour effectuer des requêtes HTTP.\n",
        "    * `BeautifulSoup`: Pour analyser le HTML.\n",
        "2. **Fonction `get_cert_fr_advisories()`:**\n",
        "    * Récupère le contenu HTML de la page des avis CERT-FR.\n",
        "    * Parse le HTML avec BeautifulSoup.\n",
        "    * Extrait les informations sur chaque avis (référence, titre, date, URL) et les stocke dans une liste de dictionnaires.\n",
        "    * Renvoie la liste des avis.\n",
        "3. **Fonction `main()`:**\n",
        "    * Appelle la fonction `get_cert_fr_advisories()` pour récupérer les avis.\n",
        "    * Parcourt la liste des avis et affiche les informations pour chaque avis.\n",
        "4. **Exécution du script:**\n",
        "    * La fonction `main()` est exécutée automatiquement lorsque le script est exécuté directement.\n",
        "\n",
        "**Remarques:**\n",
        "\n",
        "* Ce script utilise la bibliothèque BeautifulSoup pour analyser le HTML de la page web.\n",
        "* Vous pouvez modifier le script pour afficher les informations des avis différemment ou pour les enregistrer dans un fichier.\n",
        "* Il est important de se conformer aux conditions d'utilisation du site web CERT-FR lors de l'utilisation de ce script."
      ],
      "metadata": {
        "id": "biP3fTRANx01"
      }
    }
  ],
  "metadata": {
    "colab": {
      "provenance": [],
      "toc_visible": true,
      "include_colab_link": true
    },
    "kernelspec": {
      "display_name": "Python 3",
      "name": "python3"
    }
  },
  "nbformat": 4,
  "nbformat_minor": 0
}